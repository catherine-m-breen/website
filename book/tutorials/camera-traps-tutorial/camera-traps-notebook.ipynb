{
 "cells": [
  {
   "cell_type": "markdown",
   "id": "e8ab1ff8",
   "metadata": {},
   "source": [
    "# Camera Traps and Snow Applications\n",
    "##### Catherine Breen, cbreen@uw.edu\n",
    "##### Cassie Lumbrazo, lumbraca@uw.edu\n",
    "\n",
    "## What is a camera trap?\n",
    "\n",
    "- A camera trap (sometimes referred to as a remote camera or hunting camera) is similar to a normal camera except they:\n",
    "    - can detect  and take pictures when motion is in their vicinity. \n",
    "    - can take pictures at consistent intervals at settings preset by the user.  \n",
    "    - are designed to withstand harsh conditions and to be left up for long periods of time.  \n",
    "- Their potential for snow hydrology is exciting. Consistent daily camera trap photos can be analyzed contiously to form a *time-lapse* of snow conditions at one location. They can operate in sub-freezing temperatures and during storms -- conditions when access with other types of measurements would have been difficult. "
   ]
  },
  {
   "cell_type": "markdown",
   "id": "8bee7545",
   "metadata": {},
   "source": [
    "## Camera Traps and SnowEx\n",
    "- Camera traps were installed in both the 2017 and 2020 SnowEx campaigns. \n",
    "- During the 2020 SnowEx field campaign, 30 cameras were installed in Grand Mesa, CO between September and May. \n",
    "- Cameras were installed across a vegetation gradient on a scale of 1 (least vegetation and ) to 9 (most vegetation). Within each vegetation class there are three sub-classes of snow depths: shallow, intermediate, and deep snow, that were derived from 2017 SnowEx lidar measurements. \n",
    "- Below is an example site, site XX, \n",
    "- 2017 camera trap time-lapse imagery has been submitted to the NSIDC. 2020 time-lapse is in progress for submission to the NSIDC with estimation of submission as summer 2021. "
   ]
  },
  {
   "cell_type": "markdown",
   "id": "7b985db9",
   "metadata": {},
   "source": [
    "### Map of SnowEx Cameras"
   ]
  },
  {
   "cell_type": "markdown",
   "id": "3feda81e",
   "metadata": {},
   "source": [
    "\n",
    "##### Pulling and visualizing camera trap data\n",
    "\n",
    "We will now pull all the time-lapse imagery for one camera from the 2020 SnowEx field campaign. This is camera XXX. We will pull all images and display a couple from various times of the winter season. "
   ]
  },
  {
   "cell_type": "code",
   "execution_count": null,
   "id": "3f86d294",
   "metadata": {},
   "outputs": [],
   "source": []
  },
  {
   "cell_type": "markdown",
   "id": "fc7cbc3b",
   "metadata": {},
   "source": [
    "- What do you notice? Is this an open or closed canopy site? \n",
    "- What are some snow properties that you might be able to measure using these devices? "
   ]
  },
  {
   "cell_type": "markdown",
   "id": "51b81d9b",
   "metadata": {},
   "source": [
    "## Applications\n",
    "\n",
    "### Snow Depth\n",
    "\n",
    "Installing snow poles in front of camera trap images can provide low-cost, long-term snow depth timeseries. Using manual and automated methods, the difference between the number of pixels in a snow-free image and image with snow can give a measurement of snow using a. pixel per centimeter ratio. "
   ]
  },
  {
   "cell_type": "markdown",
   "id": "2464e762",
   "metadata": {},
   "source": [
    "### Step 1: Grab all the pit and camera locations"
   ]
  },
  {
   "cell_type": "code",
   "execution_count": 3,
   "id": "15550b93",
   "metadata": {},
   "outputs": [
    {
     "ename": "ModuleNotFoundError",
     "evalue": "No module named 'snowexsql'",
     "output_type": "error",
     "traceback": [
      "\u001b[0;31m---------------------------------------------------------------------------\u001b[0m",
      "\u001b[0;31mModuleNotFoundError\u001b[0m                       Traceback (most recent call last)",
      "\u001b[0;32m<ipython-input-3-45dcad5a48d4>\u001b[0m in \u001b[0;36m<module>\u001b[0;34m\u001b[0m\n\u001b[0;32m----> 1\u001b[0;31m \u001b[0;32mimport\u001b[0m \u001b[0msnowexsql\u001b[0m\u001b[0;34m.\u001b[0m\u001b[0mdb\u001b[0m\u001b[0;34m\u001b[0m\u001b[0;34m\u001b[0m\u001b[0m\n\u001b[0m\u001b[1;32m      2\u001b[0m \u001b[0;32mfrom\u001b[0m \u001b[0msnowexsql\u001b[0m\u001b[0;34m.\u001b[0m\u001b[0mdb\u001b[0m \u001b[0;32mimport\u001b[0m \u001b[0mget_db\u001b[0m\u001b[0;34m\u001b[0m\u001b[0;34m\u001b[0m\u001b[0m\n\u001b[1;32m      3\u001b[0m \u001b[0;32mfrom\u001b[0m \u001b[0msnowexsql\u001b[0m\u001b[0;34m.\u001b[0m\u001b[0mdata\u001b[0m \u001b[0;32mimport\u001b[0m \u001b[0mPointData\u001b[0m\u001b[0;34m,\u001b[0m \u001b[0mSiteData\u001b[0m\u001b[0;34m\u001b[0m\u001b[0;34m\u001b[0m\u001b[0m\n\u001b[1;32m      4\u001b[0m \u001b[0;32mfrom\u001b[0m \u001b[0msnowexsql\u001b[0m\u001b[0;34m.\u001b[0m\u001b[0mconversions\u001b[0m \u001b[0;32mimport\u001b[0m \u001b[0mquery_to_geopandas\u001b[0m\u001b[0;34m\u001b[0m\u001b[0;34m\u001b[0m\u001b[0m\n\u001b[1;32m      5\u001b[0m \u001b[0;34m\u001b[0m\u001b[0m\n",
      "\u001b[0;31mModuleNotFoundError\u001b[0m: No module named 'snowexsql'"
     ]
    }
   ],
   "source": [
    "import snowexsql.db\n",
    "from snowexsql.db import get_db\n",
    "from snowexsql.data import PointData, SiteData\n",
    "from snowexsql.conversions import query_to_geopandas\n",
    "\n",
    "import geopandas as gpd\n",
    "import matplotlib.pyplot as plt\n",
    "import pandas as pd\n",
    "\n",
    "# Connect to the database\n",
    "db_name = 'snow:hackweek@52.32.183.144/snowex'\n",
    "engine, session = get_db(db_name)\n",
    "\n",
    "# Grab all the point data that was that was measured with a camera-trap\n",
    "qry = session.query(PointData)\n",
    "qry = qry.filter(PointData.instrument == 'camera-trap')\n",
    "\n",
    "# Convert it to a geopandas df\n",
    "camera_depths = query_to_geopandas(qry, engine)\n",
    "\n",
    "# Grab all the unique pits geometry objects (locations)\n",
    "qry = session.query(SiteData.geom).distinct()\n",
    "pits = query_to_geopandas(qry, engine)\n",
    "\n",
    "# Print out how many of each that we found\n",
    "print(f'Found {len(camera_depths[\"geom\"].unique())} camera trap locations')\n",
    "print(f'Found {len(pits.index)} pit site locations')\n",
    "\n",
    "# End our database session to avoid hanging transactions\n",
    "session.close()\n"
   ]
  },
  {
   "cell_type": "markdown",
   "id": "fae2487f",
   "metadata": {},
   "source": [
    "### Step 2: Plot our camera and Pit locations"
   ]
  },
  {
   "cell_type": "code",
   "execution_count": 4,
   "id": "2bb964bd",
   "metadata": {},
   "outputs": [
    {
     "ename": "SyntaxError",
     "evalue": "invalid syntax (<ipython-input-4-be1b04af7912>, line 1)",
     "output_type": "error",
     "traceback": [
      "\u001b[0;36m  File \u001b[0;32m\"<ipython-input-4-be1b04af7912>\"\u001b[0;36m, line \u001b[0;32m1\u001b[0m\n\u001b[0;31m    [2]:\u001b[0m\n\u001b[0m        ^\u001b[0m\n\u001b[0;31mSyntaxError\u001b[0m\u001b[0;31m:\u001b[0m invalid syntax\n"
     ]
    }
   ],
   "source": [
    "# plot our pits as triangles\n",
    "ax = pits.plot(marker='^', color='gray', label='Pits')\n",
    "\n",
    "# Plot our cameras as squares\n",
    "ax = camera_depths.plot(ax=ax, color='magenta', marker='s', label='Camera Traps')\n",
    "\n",
    "# Don't use scientific notation on the ticks for utm coords\n",
    "ax.ticklabel_format(style='plain', useOffset=False)\n",
    "ax.set_xlabel('Easting [m]')\n",
    "ax.set_ylabel('Northing [m]')\n",
    "ax.legend()\n",
    "plt.tight_layout()\n",
    "plt.show()"
   ]
  },
  {
   "cell_type": "markdown",
   "id": "d1d7568b",
   "metadata": {},
   "source": [
    "### Step 3: Grab/Plot the Vegetated and Open Camera sites"
   ]
  },
  {
   "cell_type": "code",
   "execution_count": 5,
   "id": "6cbff04e",
   "metadata": {},
   "outputs": [
    {
     "ename": "NameError",
     "evalue": "name 'session' is not defined",
     "output_type": "error",
     "traceback": [
      "\u001b[0;31m---------------------------------------------------------------------------\u001b[0m",
      "\u001b[0;31mNameError\u001b[0m                                 Traceback (most recent call last)",
      "\u001b[0;32m<ipython-input-5-8dabafbf0c13>\u001b[0m in \u001b[0;36m<module>\u001b[0;34m\u001b[0m\n\u001b[1;32m      2\u001b[0m \u001b[0mopen_site\u001b[0m \u001b[0;34m=\u001b[0m \u001b[0;34m'W1A'\u001b[0m\u001b[0;34m\u001b[0m\u001b[0;34m\u001b[0m\u001b[0m\n\u001b[1;32m      3\u001b[0m \u001b[0mveg_site\u001b[0m \u001b[0;34m=\u001b[0m \u001b[0;34m'W9A'\u001b[0m\u001b[0;34m\u001b[0m\u001b[0;34m\u001b[0m\u001b[0m\n\u001b[0;32m----> 4\u001b[0;31m \u001b[0mqry\u001b[0m \u001b[0;34m=\u001b[0m \u001b[0msession\u001b[0m\u001b[0;34m.\u001b[0m\u001b[0mquery\u001b[0m\u001b[0;34m(\u001b[0m\u001b[0mPointData\u001b[0m\u001b[0;34m)\u001b[0m\u001b[0;34m.\u001b[0m\u001b[0mfilter\u001b[0m\u001b[0;34m(\u001b[0m\u001b[0mPointData\u001b[0m\u001b[0;34m.\u001b[0m\u001b[0mequipment\u001b[0m\u001b[0;34m.\u001b[0m\u001b[0mcontains\u001b[0m\u001b[0;34m(\u001b[0m\u001b[0mopen_site\u001b[0m\u001b[0;34m)\u001b[0m\u001b[0;34m)\u001b[0m\u001b[0;34m\u001b[0m\u001b[0;34m\u001b[0m\u001b[0m\n\u001b[0m\u001b[1;32m      5\u001b[0m \u001b[0mdf_open\u001b[0m \u001b[0;34m=\u001b[0m \u001b[0mquery_to_geopandas\u001b[0m\u001b[0;34m(\u001b[0m\u001b[0mqry\u001b[0m\u001b[0;34m,\u001b[0m\u001b[0mengine\u001b[0m\u001b[0;34m)\u001b[0m\u001b[0;34m\u001b[0m\u001b[0;34m\u001b[0m\u001b[0m\n\u001b[1;32m      6\u001b[0m \u001b[0;34m\u001b[0m\u001b[0m\n",
      "\u001b[0;31mNameError\u001b[0m: name 'session' is not defined"
     ]
    }
   ],
   "source": [
    "# Grab the open site data from the db\n",
    "open_site = 'W1A'\n",
    "veg_site = 'W9A'\n",
    "qry = session.query(PointData).filter(PointData.equipment.contains(open_site))\n",
    "df_open = query_to_geopandas(qry,engine)\n",
    "\n",
    "# Grab the vegetated site from the db\n",
    "qry = session.query(PointData).filter(PointData.equipment.contains(veg_site))\n",
    "df_veg = query_to_geopandas(qry,engine)\n",
    "\n",
    "# Set the date as the index for easy plotting/reading\n",
    "df_open = df_open.set_index('date')\n",
    "df_veg = df_veg.set_index('date')\n",
    "\n",
    "# Plot the 2 datasets by date!\n",
    "ax = df_open['value'].plot(label=f'Open ({open_site})')\n",
    "df_veg['value'].plot(ax=ax, label=f'Vegetated ({veg_site})')\n",
    "\n",
    "# Mess with some labeling to make it look nice\n",
    "ax.legend()\n",
    "ax.set_ylabel('Snow Depth [cm]')\n",
    "plt.tight_layout()\n",
    "plt.show()"
   ]
  },
  {
   "cell_type": "markdown",
   "id": "332a771d",
   "metadata": {},
   "source": [
    "## Snow in Trees\n",
    "\n"
   ]
  },
  {
   "cell_type": "code",
   "execution_count": null,
   "id": "af4c7dd5",
   "metadata": {},
   "outputs": [],
   "source": []
  },
  {
   "cell_type": "markdown",
   "id": "7365abc2",
   "metadata": {},
   "source": [
    "## Current and Future Work"
   ]
  },
  {
   "cell_type": "code",
   "execution_count": null,
   "id": "0ff4cbf7",
   "metadata": {},
   "outputs": [],
   "source": []
  }
 ],
 "metadata": {
  "kernelspec": {
   "display_name": "Python 3",
   "language": "python",
   "name": "python3"
  },
  "language_info": {
   "codemirror_mode": {
    "name": "ipython",
    "version": 3
   },
   "file_extension": ".py",
   "mimetype": "text/x-python",
   "name": "python",
   "nbconvert_exporter": "python",
   "pygments_lexer": "ipython3",
   "version": "3.8.8"
  }
 },
 "nbformat": 4,
 "nbformat_minor": 5
}
