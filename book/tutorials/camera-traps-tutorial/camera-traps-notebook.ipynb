{
 "cells": [
  {
   "cell_type": "markdown",
   "id": "00a07c59",
   "metadata": {},
   "source": [
    "# Camera Traps Tutorial for 2020 SnowEx Hackweek\n",
    "##### Catherine Breen, cbreen@uw.edu\n",
    "##### Cassie Lumbrazo, lumbraca@uw.edu\n",
    "\n",
    "# What is a camera trap?\n",
    "\n",
    "- A camera trap (sometimes referred to as a remote camera or hunting camera) is similar to a normal camera except they:\n",
    "    - can detect  and take pictures when motion is in their vicinity. \n",
    "    - can take pictures at consistent intervals at settings preset by the user.  \n",
    "    - are designed to withstand harsh conditions and to be left up for long periods of time.  \n",
    "- Their potential for snow hydrology is exciting. Consistent daily camera trap photos can be analyzed contiously to form a *time-lapse* of snow conditions at one location. They can operate in sub-freezing temperatures and during storms -- conditions when access with other types of measurements would have been difficult. "
   ]
  },
  {
   "cell_type": "markdown",
   "id": "dd3dde19",
   "metadata": {},
   "source": [
    "# Camera Traps and SnowEx\n",
    "- Camera traps were installed in both the 2017 and 2020 SnowEx campaigns. \n",
    "- During the 2020 SnowEx field campaign, 30 cameras were installed in Grand Mesa, CO between September and May. \n",
    "- Cameras were installed across a vegetation gradient on a scale of 1 (least vegetation and ) to 9 (most vegetation). Within each vegetation class there are three sub-classes of snow depths: shallow, intermediate, and deep snow, that were derived from 2017 SnowEx lidar measurements. \n",
    "- Below is an example site, site XX, \n",
    "- 2017 camera trap time-lapse imagery has been submitted to the NSIDC. 2020 time-lapse is in progress for submission to the NSIDC with estimation of submission as summer 2021. "
   ]
  },
  {
   "cell_type": "markdown",
   "id": "53060d80",
   "metadata": {},
   "source": [
    "## Exercise 1\n",
    "##### Pulling and visualizing camera trap data\n",
    "\n",
    "We will now pull all the time-lapse imagery for one camera from the 2020 SnowEx field campaign. This is camera XXX. We will pull all images and display a couple from various times of the winter season. "
   ]
  },
  {
   "cell_type": "code",
   "execution_count": null,
   "id": "2122e86d",
   "metadata": {},
   "outputs": [],
   "source": [
    "#### pull images from Micah's database"
   ]
  },
  {
   "cell_type": "markdown",
   "id": "206e2493",
   "metadata": {},
   "source": [
    "- What do you notice? Is this an open or closed canopy site? \n",
    "- What are some snow properties that you might be able to measure using these devices? "
   ]
  },
  {
   "cell_type": "markdown",
   "id": "9a764dcd",
   "metadata": {},
   "source": [
    "# Applications\n",
    "\n",
    "##### Extracting snow properties from camera trap images\n",
    "\n",
    "## Snow Depth"
   ]
  },
  {
   "cell_type": "markdown",
   "id": "8bb7201c",
   "metadata": {},
   "source": [
    "## Exercise 2"
   ]
  },
  {
   "cell_type": "code",
   "execution_count": null,
   "id": "ee6ae9ae",
   "metadata": {},
   "outputs": [],
   "source": [
    "#### pull csv file from Micah's database"
   ]
  },
  {
   "cell_type": "markdown",
   "id": "b16e8dc7",
   "metadata": {},
   "source": [
    "## Snow in Trees\n",
    "\n",
    "Cassie to fill in "
   ]
  },
  {
   "cell_type": "code",
   "execution_count": 4,
   "id": "afa0d346",
   "metadata": {},
   "outputs": [
    {
     "ename": "NameError",
     "evalue": "name 'jb' is not defined",
     "output_type": "error",
     "traceback": [
      "\u001b[0;31m---------------------------------------------------------------------------\u001b[0m",
      "\u001b[0;31mNameError\u001b[0m                                 Traceback (most recent call last)",
      "\u001b[0;32m<ipython-input-4-c8911f3ca408>\u001b[0m in \u001b[0;36m<module>\u001b[0;34m\u001b[0m\n\u001b[0;32m----> 1\u001b[0;31m \u001b[0mjb\u001b[0m\u001b[0;34m\u001b[0m\u001b[0;34m\u001b[0m\u001b[0m\n\u001b[0m",
      "\u001b[0;31mNameError\u001b[0m: name 'jb' is not defined"
     ]
    }
   ],
   "source": []
  },
  {
   "cell_type": "code",
   "execution_count": null,
   "id": "1452f316",
   "metadata": {},
   "outputs": [],
   "source": []
  }
 ],
 "metadata": {
  "kernelspec": {
   "display_name": "Python 3",
   "language": "python",
   "name": "python3"
  },
  "language_info": {
   "codemirror_mode": {
    "name": "ipython",
    "version": 3
   },
   "file_extension": ".py",
   "mimetype": "text/x-python",
   "name": "python",
   "nbconvert_exporter": "python",
   "pygments_lexer": "ipython3",
   "version": "3.8.8"
  }
 },
 "nbformat": 4,
 "nbformat_minor": 5
}
